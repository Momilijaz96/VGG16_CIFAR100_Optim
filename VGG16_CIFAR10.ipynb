{
  "nbformat": 4,
  "nbformat_minor": 0,
  "metadata": {
    "colab": {
      "name": "VGG16-CIFAR10.ipynb",
      "provenance": [],
      "collapsed_sections": [],
      "include_colab_link": true
    },
    "kernelspec": {
      "name": "python3",
      "display_name": "Python 3"
    },
    "language_info": {
      "name": "python"
    },
    "accelerator": "GPU"
  },
  "cells": [
    {
      "cell_type": "markdown",
      "metadata": {
        "id": "view-in-github",
        "colab_type": "text"
      },
      "source": [
        "<a href=\"https://colab.research.google.com/github/Momilijaz96/VGG16_CIFAR100_Optim/blob/main/VGG16_CIFAR10.ipynb\" target=\"_parent\"><img src=\"https://colab.research.google.com/assets/colab-badge.svg\" alt=\"Open In Colab\"/></a>"
      ]
    },
    {
      "cell_type": "code",
      "metadata": {
        "id": "bnsyueTmRuFr"
      },
      "source": [
        "import torch\n",
        "from torchvision import datasets\n",
        "from torchvision import transforms\n",
        "from torch.utils.data import DataLoader\n",
        "import torch.optim as optim"
      ],
      "execution_count": 1,
      "outputs": []
    },
    {
      "cell_type": "code",
      "metadata": {
        "id": "XpLwZxqnkIvs"
      },
      "source": [
        "device = torch.device('cuda' if torch.cuda.is_available() else 'cpu')"
      ],
      "execution_count": 2,
      "outputs": []
    },
    {
      "cell_type": "markdown",
      "metadata": {
        "id": "7JU1Mfvde2AG"
      },
      "source": [
        "# Import CIFAR-10 and Resize"
      ]
    },
    {
      "cell_type": "code",
      "metadata": {
        "id": "_b0GiF4QUIqL"
      },
      "source": [
        "#from torchvision.transforms.transforms import RandomInvert\n",
        "resize = transforms.Compose([transforms.Resize(64),\n",
        "                             transforms.ToTensor(),\n",
        "                             transforms.Normalize((0.5, 0.5, 0.5), (0.5, 0.5, 0.5))])"
      ],
      "execution_count": 3,
      "outputs": []
    },
    {
      "cell_type": "code",
      "metadata": {
        "id": "A9nbu4BoSSj_"
      },
      "source": [
        "train_set = datasets.CIFAR10(root=\"data\", train=True, download=True, transform=resize)"
      ],
      "execution_count": null,
      "outputs": []
    },
    {
      "cell_type": "code",
      "metadata": {
        "id": "HrYMgq0mSXIP",
        "colab": {
          "base_uri": "https://localhost:8080/"
        },
        "outputId": "f96d7ad4-ecf7-40e9-f73c-7eb0dc8191b6"
      },
      "source": [
        "test_set = datasets.CIFAR10(root=\"data\", train=False, download=True, transform=resize)"
      ],
      "execution_count": 5,
      "outputs": [
        {
          "output_type": "stream",
          "name": "stdout",
          "text": [
            "Files already downloaded and verified\n"
          ]
        }
      ]
    },
    {
      "cell_type": "code",
      "metadata": {
        "id": "c7ixv8dFWPRE",
        "colab": {
          "base_uri": "https://localhost:8080/"
        },
        "outputId": "67e518fb-c05a-49c1-c88c-1b5ab50f4ffa"
      },
      "source": [
        "train_set[0][0].shape"
      ],
      "execution_count": 6,
      "outputs": [
        {
          "output_type": "execute_result",
          "data": {
            "text/plain": [
              "torch.Size([3, 64, 64])"
            ]
          },
          "metadata": {},
          "execution_count": 6
        }
      ]
    },
    {
      "cell_type": "code",
      "metadata": {
        "id": "BalGnR67WQrB",
        "colab": {
          "base_uri": "https://localhost:8080/"
        },
        "outputId": "ebdf7ba6-1129-4cba-b955-e4085ce878ce"
      },
      "source": [
        "test_set[0][0].shape"
      ],
      "execution_count": 7,
      "outputs": [
        {
          "output_type": "execute_result",
          "data": {
            "text/plain": [
              "torch.Size([3, 64, 64])"
            ]
          },
          "metadata": {},
          "execution_count": 7
        }
      ]
    },
    {
      "cell_type": "markdown",
      "metadata": {
        "id": "2g65SO2tfYES"
      },
      "source": [
        "# VGG16"
      ]
    },
    {
      "cell_type": "code",
      "metadata": {
        "id": "uR51S8hEfaMH"
      },
      "source": [
        "import torch.nn as nn\n",
        "import torchvision.models as models\n",
        "\n",
        "model = models.vgg16(pretrained=True) #130million+ parameters\n",
        "\n",
        "#Freeze all model parameters(convolution layers )\n",
        "for param in model.features.parameters():\n",
        "    param.requires_grad = False\n",
        "\n",
        "#Change output classes\n",
        "model.classifier[6].out_features = 10"
      ],
      "execution_count": null,
      "outputs": []
    },
    {
      "cell_type": "code",
      "metadata": {
        "id": "MdBM_c17kXNx"
      },
      "source": [
        "model=model.to(device)"
      ],
      "execution_count": 9,
      "outputs": []
    },
    {
      "cell_type": "code",
      "metadata": {
        "colab": {
          "base_uri": "https://localhost:8080/"
        },
        "id": "d3qbdXxjkbOm",
        "outputId": "28a544de-f505-4b78-b99b-5e291912e67a"
      },
      "source": [
        "device"
      ],
      "execution_count": 10,
      "outputs": [
        {
          "output_type": "execute_result",
          "data": {
            "text/plain": [
              "device(type='cuda')"
            ]
          },
          "metadata": {},
          "execution_count": 10
        }
      ]
    },
    {
      "cell_type": "code",
      "metadata": {
        "id": "KlCn31Vefi1e",
        "colab": {
          "base_uri": "https://localhost:8080/"
        },
        "outputId": "e0ddf5d5-c22e-474f-ecf9-411f325b6877"
      },
      "source": [
        "print(model)"
      ],
      "execution_count": 11,
      "outputs": [
        {
          "output_type": "stream",
          "name": "stdout",
          "text": [
            "VGG(\n",
            "  (features): Sequential(\n",
            "    (0): Conv2d(3, 64, kernel_size=(3, 3), stride=(1, 1), padding=(1, 1))\n",
            "    (1): ReLU(inplace=True)\n",
            "    (2): Conv2d(64, 64, kernel_size=(3, 3), stride=(1, 1), padding=(1, 1))\n",
            "    (3): ReLU(inplace=True)\n",
            "    (4): MaxPool2d(kernel_size=2, stride=2, padding=0, dilation=1, ceil_mode=False)\n",
            "    (5): Conv2d(64, 128, kernel_size=(3, 3), stride=(1, 1), padding=(1, 1))\n",
            "    (6): ReLU(inplace=True)\n",
            "    (7): Conv2d(128, 128, kernel_size=(3, 3), stride=(1, 1), padding=(1, 1))\n",
            "    (8): ReLU(inplace=True)\n",
            "    (9): MaxPool2d(kernel_size=2, stride=2, padding=0, dilation=1, ceil_mode=False)\n",
            "    (10): Conv2d(128, 256, kernel_size=(3, 3), stride=(1, 1), padding=(1, 1))\n",
            "    (11): ReLU(inplace=True)\n",
            "    (12): Conv2d(256, 256, kernel_size=(3, 3), stride=(1, 1), padding=(1, 1))\n",
            "    (13): ReLU(inplace=True)\n",
            "    (14): Conv2d(256, 256, kernel_size=(3, 3), stride=(1, 1), padding=(1, 1))\n",
            "    (15): ReLU(inplace=True)\n",
            "    (16): MaxPool2d(kernel_size=2, stride=2, padding=0, dilation=1, ceil_mode=False)\n",
            "    (17): Conv2d(256, 512, kernel_size=(3, 3), stride=(1, 1), padding=(1, 1))\n",
            "    (18): ReLU(inplace=True)\n",
            "    (19): Conv2d(512, 512, kernel_size=(3, 3), stride=(1, 1), padding=(1, 1))\n",
            "    (20): ReLU(inplace=True)\n",
            "    (21): Conv2d(512, 512, kernel_size=(3, 3), stride=(1, 1), padding=(1, 1))\n",
            "    (22): ReLU(inplace=True)\n",
            "    (23): MaxPool2d(kernel_size=2, stride=2, padding=0, dilation=1, ceil_mode=False)\n",
            "    (24): Conv2d(512, 512, kernel_size=(3, 3), stride=(1, 1), padding=(1, 1))\n",
            "    (25): ReLU(inplace=True)\n",
            "    (26): Conv2d(512, 512, kernel_size=(3, 3), stride=(1, 1), padding=(1, 1))\n",
            "    (27): ReLU(inplace=True)\n",
            "    (28): Conv2d(512, 512, kernel_size=(3, 3), stride=(1, 1), padding=(1, 1))\n",
            "    (29): ReLU(inplace=True)\n",
            "    (30): MaxPool2d(kernel_size=2, stride=2, padding=0, dilation=1, ceil_mode=False)\n",
            "  )\n",
            "  (avgpool): AdaptiveAvgPool2d(output_size=(7, 7))\n",
            "  (classifier): Sequential(\n",
            "    (0): Linear(in_features=25088, out_features=4096, bias=True)\n",
            "    (1): ReLU(inplace=True)\n",
            "    (2): Dropout(p=0.5, inplace=False)\n",
            "    (3): Linear(in_features=4096, out_features=4096, bias=True)\n",
            "    (4): ReLU(inplace=True)\n",
            "    (5): Dropout(p=0.5, inplace=False)\n",
            "    (6): Linear(in_features=4096, out_features=10, bias=True)\n",
            "  )\n",
            ")\n"
          ]
        }
      ]
    },
    {
      "cell_type": "markdown",
      "metadata": {
        "id": "jqx8S8jIe_pM"
      },
      "source": [
        "# Training"
      ]
    },
    {
      "cell_type": "code",
      "metadata": {
        "id": "4OXROzc3aNSd"
      },
      "source": [
        "train_dataloader = DataLoader(train_set, batch_size=64, shuffle=True)\n",
        "test_dataloader = DataLoader(test_set, batch_size=64, shuffle=True)"
      ],
      "execution_count": 12,
      "outputs": []
    },
    {
      "cell_type": "code",
      "metadata": {
        "id": "6hcI-3AtgFHu"
      },
      "source": [
        "criterion=torch.nn.CrossEntropyLoss()\n",
        "optimizer = optim.Adam(model.classifier.parameters(),lr=0.001)"
      ],
      "execution_count": 13,
      "outputs": []
    },
    {
      "cell_type": "code",
      "metadata": {
        "id": "vCp8TFGSfzYx",
        "colab": {
          "base_uri": "https://localhost:8080/"
        },
        "outputId": "1a4ec5f1-e46f-4a51-9682-53c9fd7d2e5a"
      },
      "source": [
        "n_epochs = 10\n",
        "train_acc_l = []\n",
        "test_acc_l = []\n",
        "for epoch in range(n_epochs):\n",
        "  train_loss = []\n",
        "  train_running_loss = 0\n",
        "  train_acc = 0\n",
        "  for data, targets in train_dataloader:\n",
        "    data=data.to(device)\n",
        "    targets=targets.to(device)\n",
        "    # Generate predictions\n",
        "    out = model(data)\n",
        "    # Calculate loss\n",
        "    loss = criterion(out, targets)\n",
        "    train_running_loss += loss\n",
        "    #Get accuracy\n",
        "    _, preds = torch.max(out.data, 1)\n",
        "    train_acc += (preds == targets).sum()\n",
        "    #Reset the gradients\n",
        "    optimizer.zero_grad()\n",
        "    # Backpropagation\n",
        "    loss.backward()\n",
        "    # Update model parameters\n",
        "    optimizer.step()\n",
        "\n",
        "  train_loss = train_running_loss/len(train_dataloader.dataset)\n",
        "  train_acc_l.append(100 * train_acc/len(train_dataloader.dataset))\n",
        "\n",
        "  #Evaluation\n",
        "  model.eval()\n",
        "\n",
        "  #Test Evaluation\n",
        "  test_acc = 0\n",
        "  for data, targets in test_dataloader:\n",
        "    data = data.to(device)\n",
        "    targets = targets.to(device)\n",
        "    ps = model(data)\n",
        "    #Get index of class label\n",
        "    _,preds = torch.max(ps,1)\n",
        "    #Get accuracy\n",
        "    test_acc += torch.sum(preds == targets)\n",
        "  test_acc_l.append(100* test_acc/len(test_dataloader.dataset))\n",
        "\n",
        "  print(f'Epoch: {epoch+1}\\t Train_Loss: {train_loss:.4f}\\t Train_Acc: {train_acc_l[-1]:.4f}\\t Test_Acc: {test_acc_l[-1]:.4f}')\n",
        "\n",
        "  model.train()"
      ],
      "execution_count": 14,
      "outputs": [
        {
          "output_type": "stream",
          "name": "stdout",
          "text": [
            "Epoch: 1\t Train_Loss: 0.0187\t Train_Acc: 62.5780\t Test_Acc: 73.5800\n",
            "Epoch: 2\t Train_Loss: 0.0159\t Train_Acc: 68.3260\t Test_Acc: 74.0600\n",
            "Epoch: 3\t Train_Loss: 0.0148\t Train_Acc: 70.5380\t Test_Acc: 75.4200\n",
            "Epoch: 4\t Train_Loss: 0.0140\t Train_Acc: 71.9880\t Test_Acc: 75.9800\n",
            "Epoch: 5\t Train_Loss: 0.0131\t Train_Acc: 73.3260\t Test_Acc: 75.3600\n",
            "Epoch: 6\t Train_Loss: 0.0128\t Train_Acc: 74.2360\t Test_Acc: 76.3100\n",
            "Epoch: 7\t Train_Loss: 0.0124\t Train_Acc: 75.1760\t Test_Acc: 74.3200\n",
            "Epoch: 8\t Train_Loss: 0.0119\t Train_Acc: 76.1000\t Test_Acc: 76.3200\n",
            "Epoch: 9\t Train_Loss: 0.0114\t Train_Acc: 77.0140\t Test_Acc: 77.7800\n",
            "Epoch: 10\t Train_Loss: 0.0110\t Train_Acc: 77.9760\t Test_Acc: 77.1900\n"
          ]
        }
      ]
    }
  ]
}