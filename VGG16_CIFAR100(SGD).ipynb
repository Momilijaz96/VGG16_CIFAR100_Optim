{
  "nbformat": 4,
  "nbformat_minor": 0,
  "metadata": {
    "colab": {
      "name": "VGG16(SGD).ipynb",
      "provenance": [],
      "collapsed_sections": [],
      "include_colab_link": true
    },
    "kernelspec": {
      "name": "python3",
      "display_name": "Python 3"
    },
    "language_info": {
      "name": "python"
    },
    "accelerator": "GPU"
  },
  "cells": [
    {
      "cell_type": "markdown",
      "metadata": {
        "id": "view-in-github",
        "colab_type": "text"
      },
      "source": [
        "<a href=\"https://colab.research.google.com/github/Momilijaz96/VGG16_CIFAR100_Optim/blob/main/VGG16_CIFAR100(SGD).ipynb\" target=\"_parent\"><img src=\"https://colab.research.google.com/assets/colab-badge.svg\" alt=\"Open In Colab\"/></a>"
      ]
    },
    {
      "cell_type": "code",
      "metadata": {
        "id": "bnsyueTmRuFr",
        "colab": {
          "base_uri": "https://localhost:8080/"
        },
        "outputId": "5814b547-3471-448c-c0cd-cfa917d55a80"
      },
      "source": [
        "import numpy as np\n",
        "import torch\n",
        "from torch.utils.data import DataLoader\n",
        "import torch.optim as optim\n",
        "import torch.nn as nn\n",
        "from torchvision import models,transforms,datasets\n",
        "\n",
        "%load_ext autotime"
      ],
      "execution_count": null,
      "outputs": [
        {
          "output_type": "stream",
          "name": "stdout",
          "text": [
            "time: 573 µs (started: 2021-09-04 04:15:07 +00:00)\n"
          ]
        }
      ]
    },
    {
      "cell_type": "code",
      "metadata": {
        "id": "XpLwZxqnkIvs",
        "colab": {
          "base_uri": "https://localhost:8080/"
        },
        "outputId": "960eb538-4068-46cc-a846-c9487277b099"
      },
      "source": [
        "device = torch.device('cuda' if torch.cuda.is_available() else 'cpu')\n",
        "device"
      ],
      "execution_count": null,
      "outputs": [
        {
          "output_type": "execute_result",
          "data": {
            "text/plain": [
              "device(type='cuda')"
            ]
          },
          "metadata": {},
          "execution_count": 2
        },
        {
          "output_type": "stream",
          "name": "stdout",
          "text": [
            "time: 45.5 ms (started: 2021-09-04 04:15:07 +00:00)\n"
          ]
        }
      ]
    },
    {
      "cell_type": "markdown",
      "metadata": {
        "id": "7JU1Mfvde2AG"
      },
      "source": [
        "# Import CIFAR-100 and Resize"
      ]
    },
    {
      "cell_type": "code",
      "metadata": {
        "id": "_b0GiF4QUIqL",
        "colab": {
          "base_uri": "https://localhost:8080/"
        },
        "outputId": "543533ac-9d50-45f5-cfba-66f204c02ee5"
      },
      "source": [
        "train_transform = transforms.Compose([transforms.Resize(64),\n",
        "                                   transforms.RandomHorizontalFlip(),\n",
        "                                   transforms.RandomRotation(15),\n",
        "                                   transforms.ToTensor(),\n",
        "                                   transforms.Normalize((0.48,0.4593,0.4155),(0.2774,0.2794,0.2794))])\n",
        "\n",
        "test_transform = transforms.Compose([transforms.Resize(64),\n",
        "                                  transforms.ToTensor(),\n",
        "                                  transforms.Normalize((0.48,0.4593,0.4155),(0.2774,0.2794,0.2794))])"
      ],
      "execution_count": null,
      "outputs": [
        {
          "output_type": "stream",
          "name": "stdout",
          "text": [
            "time: 5.49 ms (started: 2021-09-04 04:15:07 +00:00)\n"
          ]
        }
      ]
    },
    {
      "cell_type": "code",
      "metadata": {
        "id": "A9nbu4BoSSj_",
        "colab": {
          "base_uri": "https://localhost:8080/"
        },
        "outputId": "5f7b6f2c-0709-4658-bd7b-00e795e64366"
      },
      "source": [
        "train_set = datasets.CIFAR100(root = \"CIFAR100\", train = True, download = True, transform = train_transform)"
      ],
      "execution_count": null,
      "outputs": [
        {
          "output_type": "stream",
          "name": "stdout",
          "text": [
            "Files already downloaded and verified\n",
            "time: 1.07 s (started: 2021-09-04 04:15:07 +00:00)\n"
          ]
        }
      ]
    },
    {
      "cell_type": "code",
      "metadata": {
        "id": "HrYMgq0mSXIP",
        "colab": {
          "base_uri": "https://localhost:8080/"
        },
        "outputId": "8e44d10e-c174-4636-df96-881be11dc07b"
      },
      "source": [
        "test_set = datasets.CIFAR100(root = \"CIFAR100\", train = False, download = True, transform = test_transform)"
      ],
      "execution_count": null,
      "outputs": [
        {
          "output_type": "stream",
          "name": "stdout",
          "text": [
            "Files already downloaded and verified\n",
            "time: 803 ms (started: 2021-09-04 04:15:08 +00:00)\n"
          ]
        }
      ]
    },
    {
      "cell_type": "code",
      "metadata": {
        "colab": {
          "base_uri": "https://localhost:8080/"
        },
        "id": "i5bLuLgL7zrF",
        "outputId": "ffa3e9c0-de02-4f85-c950-19a3887ace22"
      },
      "source": [
        "train_set[0][0].shape"
      ],
      "execution_count": null,
      "outputs": [
        {
          "output_type": "execute_result",
          "data": {
            "text/plain": [
              "torch.Size([3, 64, 64])"
            ]
          },
          "metadata": {},
          "execution_count": 6
        },
        {
          "output_type": "stream",
          "name": "stdout",
          "text": [
            "time: 8.68 ms (started: 2021-09-04 04:15:09 +00:00)\n"
          ]
        }
      ]
    },
    {
      "cell_type": "code",
      "metadata": {
        "colab": {
          "base_uri": "https://localhost:8080/"
        },
        "id": "02RU0eKt73KQ",
        "outputId": "907a367c-f932-461a-ee19-8ee81f0c954a"
      },
      "source": [
        "test_set[0][0].shape"
      ],
      "execution_count": null,
      "outputs": [
        {
          "output_type": "execute_result",
          "data": {
            "text/plain": [
              "torch.Size([3, 64, 64])"
            ]
          },
          "metadata": {},
          "execution_count": 7
        },
        {
          "output_type": "stream",
          "name": "stdout",
          "text": [
            "time: 6.56 ms (started: 2021-09-04 04:15:09 +00:00)\n"
          ]
        }
      ]
    },
    {
      "cell_type": "markdown",
      "metadata": {
        "id": "2g65SO2tfYES"
      },
      "source": [
        "# VGG16"
      ]
    },
    {
      "cell_type": "code",
      "metadata": {
        "id": "0PJxLwDRvpPA",
        "colab": {
          "base_uri": "https://localhost:8080/"
        },
        "outputId": "afc1b3c9-a0a3-4719-ee5d-0eac1c717d55"
      },
      "source": [
        "# Number of classes in the dataset\n",
        "num_classes = 100\n",
        "\n",
        "# Batch size for training\n",
        "batch_size = 64\n",
        "\n",
        "# Number of epochs\n",
        "num_epochs = 20"
      ],
      "execution_count": null,
      "outputs": [
        {
          "output_type": "stream",
          "name": "stdout",
          "text": [
            "time: 4.75 ms (started: 2021-09-04 04:15:09 +00:00)\n"
          ]
        }
      ]
    },
    {
      "cell_type": "code",
      "metadata": {
        "id": "MdBM_c17kXNx",
        "colab": {
          "base_uri": "https://localhost:8080/"
        },
        "outputId": "43e29337-569e-4d8e-b2d0-10d58b4fc22a"
      },
      "source": [
        "vgg16_model = models.vgg16(pretrained = True) #130million+ parameters\n",
        "\n",
        "#set_parameter_requires_grad for classifier layers\n",
        "'''\n",
        "for param in vgg16_model.parameters():\n",
        "  param.requires_grad=False\n",
        "'''\n",
        "\n",
        "#Modify last layer out classes\n",
        "vgg16_model.classifier[6].out_features = num_classes\n",
        "\n",
        "vgg16_model = vgg16_model.to(device)"
      ],
      "execution_count": null,
      "outputs": [
        {
          "output_type": "stream",
          "name": "stdout",
          "text": [
            "time: 4 s (started: 2021-09-04 04:15:09 +00:00)\n"
          ]
        }
      ]
    },
    {
      "cell_type": "code",
      "metadata": {
        "id": "KlCn31Vefi1e",
        "colab": {
          "base_uri": "https://localhost:8080/"
        },
        "outputId": "9e38e3fb-039d-4d6a-eba6-8a996621c66a"
      },
      "source": [
        "print(vgg16_model)"
      ],
      "execution_count": null,
      "outputs": [
        {
          "output_type": "stream",
          "name": "stdout",
          "text": [
            "VGG(\n",
            "  (features): Sequential(\n",
            "    (0): Conv2d(3, 64, kernel_size=(3, 3), stride=(1, 1), padding=(1, 1))\n",
            "    (1): ReLU(inplace=True)\n",
            "    (2): Conv2d(64, 64, kernel_size=(3, 3), stride=(1, 1), padding=(1, 1))\n",
            "    (3): ReLU(inplace=True)\n",
            "    (4): MaxPool2d(kernel_size=2, stride=2, padding=0, dilation=1, ceil_mode=False)\n",
            "    (5): Conv2d(64, 128, kernel_size=(3, 3), stride=(1, 1), padding=(1, 1))\n",
            "    (6): ReLU(inplace=True)\n",
            "    (7): Conv2d(128, 128, kernel_size=(3, 3), stride=(1, 1), padding=(1, 1))\n",
            "    (8): ReLU(inplace=True)\n",
            "    (9): MaxPool2d(kernel_size=2, stride=2, padding=0, dilation=1, ceil_mode=False)\n",
            "    (10): Conv2d(128, 256, kernel_size=(3, 3), stride=(1, 1), padding=(1, 1))\n",
            "    (11): ReLU(inplace=True)\n",
            "    (12): Conv2d(256, 256, kernel_size=(3, 3), stride=(1, 1), padding=(1, 1))\n",
            "    (13): ReLU(inplace=True)\n",
            "    (14): Conv2d(256, 256, kernel_size=(3, 3), stride=(1, 1), padding=(1, 1))\n",
            "    (15): ReLU(inplace=True)\n",
            "    (16): MaxPool2d(kernel_size=2, stride=2, padding=0, dilation=1, ceil_mode=False)\n",
            "    (17): Conv2d(256, 512, kernel_size=(3, 3), stride=(1, 1), padding=(1, 1))\n",
            "    (18): ReLU(inplace=True)\n",
            "    (19): Conv2d(512, 512, kernel_size=(3, 3), stride=(1, 1), padding=(1, 1))\n",
            "    (20): ReLU(inplace=True)\n",
            "    (21): Conv2d(512, 512, kernel_size=(3, 3), stride=(1, 1), padding=(1, 1))\n",
            "    (22): ReLU(inplace=True)\n",
            "    (23): MaxPool2d(kernel_size=2, stride=2, padding=0, dilation=1, ceil_mode=False)\n",
            "    (24): Conv2d(512, 512, kernel_size=(3, 3), stride=(1, 1), padding=(1, 1))\n",
            "    (25): ReLU(inplace=True)\n",
            "    (26): Conv2d(512, 512, kernel_size=(3, 3), stride=(1, 1), padding=(1, 1))\n",
            "    (27): ReLU(inplace=True)\n",
            "    (28): Conv2d(512, 512, kernel_size=(3, 3), stride=(1, 1), padding=(1, 1))\n",
            "    (29): ReLU(inplace=True)\n",
            "    (30): MaxPool2d(kernel_size=2, stride=2, padding=0, dilation=1, ceil_mode=False)\n",
            "  )\n",
            "  (avgpool): AdaptiveAvgPool2d(output_size=(7, 7))\n",
            "  (classifier): Sequential(\n",
            "    (0): Linear(in_features=25088, out_features=4096, bias=True)\n",
            "    (1): ReLU(inplace=True)\n",
            "    (2): Dropout(p=0.5, inplace=False)\n",
            "    (3): Linear(in_features=4096, out_features=4096, bias=True)\n",
            "    (4): ReLU(inplace=True)\n",
            "    (5): Dropout(p=0.5, inplace=False)\n",
            "    (6): Linear(in_features=4096, out_features=100, bias=True)\n",
            "  )\n",
            ")\n",
            "time: 1.26 ms (started: 2021-09-04 04:15:13 +00:00)\n"
          ]
        }
      ]
    },
    {
      "cell_type": "markdown",
      "metadata": {
        "id": "jqx8S8jIe_pM"
      },
      "source": [
        "# Training"
      ]
    },
    {
      "cell_type": "code",
      "metadata": {
        "id": "nR8nsYZ_px8S",
        "colab": {
          "base_uri": "https://localhost:8080/"
        },
        "outputId": "3544d2b7-de76-46ce-8b1a-8083c07e76f2"
      },
      "source": [
        "criterion = nn.CrossEntropyLoss()\n",
        "sgd_optimizer = optim.SGD(vgg16_model.parameters(), lr = 0.001, momentum = 0.9)\n",
        "lr_scheduler = optim.lr_scheduler.StepLR(sgd_optimizer, step_size = 10, gamma = 0.1)\n",
        "\n",
        "train_dataloader = DataLoader(train_set, batch_size = batch_size, shuffle = True)\n",
        "test_dataloader = DataLoader(test_set, batch_size = batch_size, shuffle = True)"
      ],
      "execution_count": null,
      "outputs": [
        {
          "output_type": "stream",
          "name": "stdout",
          "text": [
            "time: 10.8 ms (started: 2021-09-04 04:15:13 +00:00)\n"
          ]
        }
      ]
    },
    {
      "cell_type": "code",
      "metadata": {
        "id": "M58bUMju28j4",
        "colab": {
          "base_uri": "https://localhost:8080/"
        },
        "outputId": "c3aec20b-2785-4919-e34e-7fc7adb14a34"
      },
      "source": [
        "def fit(model, dataset, optimizer, scheduler, criterion):\n",
        "  #Set model to training mode\n",
        "  model.train()\n",
        "  scheduler.step()\n",
        "  #Iterate over data\n",
        "  for data, targets in dataset:\n",
        "    data = data.to(device)\n",
        "    targets = targets.to(device)\n",
        "    #Reset the gradients\n",
        "    optimizer.zero_grad()\n",
        "    # Generate predictions\n",
        "    out = model(data)\n",
        "    # Calculate loss\n",
        "    loss = criterion(out, targets)\n",
        "    # Backpropagation\n",
        "    loss.backward()\n",
        "    # Update model parameters\n",
        "    optimizer.step()"
      ],
      "execution_count": null,
      "outputs": [
        {
          "output_type": "stream",
          "name": "stdout",
          "text": [
            "time: 8.18 ms (started: 2021-09-04 04:15:13 +00:00)\n"
          ]
        }
      ]
    },
    {
      "cell_type": "code",
      "metadata": {
        "id": "ZSPUrB5mperN",
        "colab": {
          "base_uri": "https://localhost:8080/"
        },
        "outputId": "71a7ebb3-c8b6-4a58-a1a8-9c33db9e60b2"
      },
      "source": [
        "def validate(model, dataset, criterion):\n",
        "  #set model to evaluation mode\n",
        "  model.eval()\n",
        "  acc = 0\n",
        "  loss = []\n",
        "  for data, targets in dataset:\n",
        "    data = data.to(device)\n",
        "    targets = targets.to(device)\n",
        "    out = model(data)\n",
        "    #Get loss\n",
        "    l = criterion(out, targets)\n",
        "    loss.append(l.item())\n",
        "    #Get index of class label\n",
        "    _,preds = torch.max(out.data,1)\n",
        "    #Get accuracy\n",
        "    acc += torch.sum(preds == targets).item()\n",
        "\n",
        "  return 100*acc/len(dataset.dataset), np.mean(np.array(loss))"
      ],
      "execution_count": null,
      "outputs": [
        {
          "output_type": "stream",
          "name": "stdout",
          "text": [
            "time: 18.4 ms (started: 2021-09-04 04:15:13 +00:00)\n"
          ]
        }
      ]
    },
    {
      "cell_type": "code",
      "metadata": {
        "id": "vCp8TFGSfzYx",
        "colab": {
          "base_uri": "https://localhost:8080/"
        },
        "outputId": "b60231fd-dafe-4ef2-bb3a-9f60f842563d"
      },
      "source": [
        "train_loss = []\n",
        "train_acc = []\n",
        "test_loss = []\n",
        "test_acc = []\n",
        "\n",
        "#Loop for num_epochs\n",
        "for epoch in range(num_epochs):\n",
        "  #Fit model\n",
        "  fit(vgg16_model, train_dataloader, sgd_optimizer, lr_scheduler, criterion)\n",
        "\n",
        "  #Train validation\n",
        "  trn_acc, trn_lss = validate(vgg16_model, train_dataloader, criterion)\n",
        "  train_loss.append(trn_lss)\n",
        "  train_acc.append(trn_acc)\n",
        "\n",
        "  #Test validation\n",
        "  tst_acc, tst_lss = validate(vgg16_model, test_dataloader, criterion)\n",
        "  test_loss.append(tst_lss)\n",
        "  test_acc.append(tst_acc)\n",
        "\n",
        "  print(f'Epoch:{epoch+1}\\t Train_Loss:{train_loss[-1]:.4f}\\t Train_Acc:{train_acc[-1]:.4f}\\t Test_Loss:{test_loss[-1]:.4f}\\t Test_Acc:{test_acc[-1]:.4f}')\n"
      ],
      "execution_count": null,
      "outputs": [
        {
          "output_type": "stream",
          "name": "stdout",
          "text": [
            "Epoch:1\t Train_Loss:2.9522\t Train_Acc:23.3820\t Test_Loss:2.9883\t Test_Acc:21.6800\n",
            "Epoch:2\t Train_Loss:1.9591\t Train_Acc:45.3800\t Test_Loss:1.9788\t Test_Acc:44.4700\n",
            "Epoch:3\t Train_Loss:1.5607\t Train_Acc:55.6080\t Test_Loss:1.6354\t Test_Acc:53.0100\n",
            "Epoch:4\t Train_Loss:1.3547\t Train_Acc:60.5880\t Test_Loss:1.4688\t Test_Acc:57.5600\n",
            "Epoch:5\t Train_Loss:1.2058\t Train_Acc:64.6740\t Test_Loss:1.3700\t Test_Acc:60.7000\n",
            "Epoch:6\t Train_Loss:1.0951\t Train_Acc:67.4580\t Test_Loss:1.2949\t Test_Acc:62.5500\n",
            "Epoch:7\t Train_Loss:1.0223\t Train_Acc:70.0160\t Test_Loss:1.2805\t Test_Acc:63.3500\n",
            "Epoch:8\t Train_Loss:0.8719\t Train_Acc:73.8780\t Test_Loss:1.1986\t Test_Acc:65.9000\n",
            "Epoch:9\t Train_Loss:0.7510\t Train_Acc:77.3980\t Test_Loss:1.1566\t Test_Acc:67.1100\n",
            "Epoch:10\t Train_Loss:0.6284\t Train_Acc:80.7140\t Test_Loss:1.0602\t Test_Acc:69.7700\n",
            "Epoch:11\t Train_Loss:0.6068\t Train_Acc:81.3600\t Test_Loss:1.0614\t Test_Acc:69.9200\n",
            "Epoch:12\t Train_Loss:0.5862\t Train_Acc:81.9420\t Test_Loss:1.0533\t Test_Acc:70.3100\n",
            "Epoch:13\t Train_Loss:0.5721\t Train_Acc:82.4880\t Test_Loss:1.0654\t Test_Acc:70.3000\n",
            "Epoch:14\t Train_Loss:0.5611\t Train_Acc:82.6720\t Test_Loss:1.0612\t Test_Acc:70.2700\n",
            "Epoch:15\t Train_Loss:0.5439\t Train_Acc:83.1220\t Test_Loss:1.0675\t Test_Acc:70.4500\n",
            "Epoch:16\t Train_Loss:0.5294\t Train_Acc:83.5300\t Test_Loss:1.0678\t Test_Acc:70.4600\n",
            "Epoch:17\t Train_Loss:0.5197\t Train_Acc:83.9560\t Test_Loss:1.0710\t Test_Acc:70.6300\n",
            "Epoch:18\t Train_Loss:0.5060\t Train_Acc:84.1920\t Test_Loss:1.0784\t Test_Acc:70.6600\n",
            "Epoch:19\t Train_Loss:0.4961\t Train_Acc:84.5040\t Test_Loss:1.0656\t Test_Acc:70.9900\n",
            "Epoch:20\t Train_Loss:0.4881\t Train_Acc:84.9920\t Test_Loss:1.0707\t Test_Acc:70.8300\n",
            "time: 1h 47min 15s (started: 2021-09-04 04:15:13 +00:00)\n"
          ]
        }
      ]
    },
    {
      "cell_type": "markdown",
      "metadata": {
        "id": "k-3zSFVjlwcS"
      },
      "source": [
        "# Save Model"
      ]
    },
    {
      "cell_type": "code",
      "metadata": {
        "id": "3igyCBlZl2A-",
        "colab": {
          "base_uri": "https://localhost:8080/"
        },
        "outputId": "b83e540f-a207-4d98-e034-aabed553d0a3"
      },
      "source": [
        "torch.save(vgg16_model.state_dict(), 'VGG16(SGD)')"
      ],
      "execution_count": null,
      "outputs": [
        {
          "output_type": "stream",
          "name": "stdout",
          "text": [
            "time: 1.96 s (started: 2021-09-04 06:02:29 +00:00)\n"
          ]
        }
      ]
    }
  ]
}